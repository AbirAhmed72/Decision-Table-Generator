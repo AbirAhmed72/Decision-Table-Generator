{
 "cells": [
  {
   "cell_type": "code",
   "execution_count": 1,
   "metadata": {},
   "outputs": [],
   "source": [
    "import pandas as pd\n",
    "import itertools\n",
    "import re"
   ]
  },
  {
   "cell_type": "code",
   "execution_count": 12,
   "metadata": {},
   "outputs": [
    {
     "name": "stdout",
     "output_type": "stream",
     "text": [
      "Condition Stub:\n",
      "the working hours are 48 or less\n",
      "the working hours exceed 48 on normal working days.\n",
      "the working days are holidays or Sundays\n",
      "\n",
      "Action Stub:\n",
      "give normal salary.\n",
      "The rate of the salary is 1.25 times\n",
      "the rate of the salary is 2.00 times.\n"
     ]
    }
   ],
   "source": [
    "sentences = [\n",
    "    \"If the working hours are 48 or less then give normal salary.\",\n",
    "    \"The rate of the salary is 1.25 times if the working hours exceed 48 on normal working days.\",\n",
    "    \"If the working days are holidays or Sundays then the rate of the salary is 2.00 times.\"\n",
    "]\n",
    "\n",
    "condition_stub = []\n",
    "action_stub = []\n",
    "\n",
    "for sentence in sentences:\n",
    "    words = sentence.split()\n",
    "    if words[0].lower() == 'if':\n",
    "        condition_index = sentence.lower().index('if') + 2\n",
    "        then_index = sentence.lower().index('then')\n",
    "        condition_stub.append(sentence[condition_index:then_index].strip())\n",
    "        action_stub.append(sentence[then_index + 4:].strip())\n",
    "    else:\n",
    "        if_index = sentence.lower().index('if')\n",
    "        condition_stub.append(sentence[if_index + 2:].strip())\n",
    "        action_stub.append(sentence[:if_index].strip())\n",
    "\n",
    "# Output condition and action stubs\n",
    "print(\"Condition Stub:\")\n",
    "for condition in condition_stub:\n",
    "    print(condition)\n",
    "\n",
    "print(\"\\nAction Stub:\")\n",
    "for action in action_stub:\n",
    "    print(action)\n"
   ]
  }
 ],
 "metadata": {
  "kernelspec": {
   "display_name": "Python 3",
   "language": "python",
   "name": "python3"
  },
  "language_info": {
   "codemirror_mode": {
    "name": "ipython",
    "version": 3
   },
   "file_extension": ".py",
   "mimetype": "text/x-python",
   "name": "python",
   "nbconvert_exporter": "python",
   "pygments_lexer": "ipython3",
   "version": "3.11.1"
  },
  "vscode": {
   "interpreter": {
    "hash": "5238573367df39f7286bb46f9ff5f08f63a01a80960060ce41e3c79b190280fa"
   }
  }
 },
 "nbformat": 4,
 "nbformat_minor": 2
}
